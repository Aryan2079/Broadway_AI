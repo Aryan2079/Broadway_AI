{
 "cells": [
  {
   "cell_type": "code",
   "execution_count": 469,
   "id": "287bc24c",
   "metadata": {},
   "outputs": [],
   "source": [
    "import cv2\n",
    "import numpy as np\n",
    "import matplotlib.pyplot as plt\n",
    "import joblib"
   ]
  },
  {
   "cell_type": "code",
   "execution_count": 470,
   "id": "ec332aa9",
   "metadata": {},
   "outputs": [],
   "source": [
    "# Step 1: Read the image\n",
    "img = cv2.imread(\"./zero.jpg\", cv2.IMREAD_GRAYSCALE)"
   ]
  },
  {
   "cell_type": "code",
   "execution_count": 471,
   "id": "7324e20a",
   "metadata": {},
   "outputs": [],
   "source": [
    "# Step 2: Resize to 28x28\n",
    "img_resized = cv2.resize(img, (28, 28), interpolation=cv2.INTER_AREA)"
   ]
  },
  {
   "cell_type": "code",
   "execution_count": null,
   "id": "74947c6b",
   "metadata": {},
   "outputs": [],
   "source": [
    "# step 3: invert the images\n",
    "img_resized = 255 - img_resized\n"
   ]
  },
  {
   "cell_type": "code",
   "execution_count": 473,
   "id": "0e7bb0b7",
   "metadata": {},
   "outputs": [],
   "source": [
    "# Step 4: Normalize pixel values\n",
    "img_normalized = img_resized / 255.0"
   ]
  },
  {
   "cell_type": "code",
   "execution_count": 474,
   "id": "5d5f7a01",
   "metadata": {},
   "outputs": [],
   "source": [
    "# Step 5: Flatten to 1D \n",
    "img_flatten = img_resized.flatten()"
   ]
  },
  {
   "cell_type": "code",
   "execution_count": 475,
   "id": "d3f422a2",
   "metadata": {},
   "outputs": [
    {
     "data": {
      "text/plain": [
       "array([  0,   0,   0,   0,   0,   0,   0,   0,   0,   0,   0,   0,   0,\n",
       "         0,   0,   0,   0,   0,   0,   0,   0,   0,   0,   0,   0,   0,\n",
       "         0,   0,   0,   0,   0,   0,   0,   0,   0,   0,   0,   0,   0,\n",
       "         0,   0,   0,   0,   0,   0,   0,   0,   0,   0,   0,   0,   0,\n",
       "         0,   0,   0,   0,   0,   0,   0,   0,   0,   0,   0,   0,   0,\n",
       "         0,   0,   0,   0,   0,   0,   0,   0,   3,  14,   0,   0,   0,\n",
       "         0,   0,   0,   0,   0,   0,   0,   0,   0,   0,   0,   0,   0,\n",
       "         0,   0,   0,   0,   0,   0,   0,   0,  22, 135, 214, 228, 113,\n",
       "         0,   0,   0,   0,   0,   0,   0,   0,   0,   0,   0,   0,   0,\n",
       "         0,   0,   0,   0,   0,   0,   0,   0,   0,  58, 210, 228, 171,\n",
       "       198, 220,   6,   0,   0,   0,   0,   0,   0,   0,   0,   0,   0,\n",
       "         0,   0,   0,   0,   0,   0,   0,   0,   0,   0,  77, 223, 212,\n",
       "        67,   0, 110, 229,  76,   0,   0,   0,   0,   0,   0,   0,   0,\n",
       "         0,   0,   0,   0,   0,   0,   0,   0,   0,   0,   0,  83, 226,\n",
       "       201,  37,   0,   0,  22, 223, 168,   0,   0,   0,   0,   0,   0,\n",
       "         0,   0,   0,   0,   0,   0,   0,   0,   0,   0,   0,   0,  72,\n",
       "       225, 199,  28,   0,   0,   0,   0, 172, 217,   2,   0,   0,   0,\n",
       "         0,   0,   0,   0,   0,   0,   0,   0,   0,   0,   0,   0,   0,\n",
       "        45, 219, 206,  30,   0,   0,   0,   0,   0, 159, 224,   4,   0,\n",
       "         0,   0,   0,   0,   0,   0,   0,   0,   0,   0,   0,   0,   0,\n",
       "         0,  18, 202, 220,  48,   0,   0,   0,   0,   0,   0, 174, 214,\n",
       "         1,   0,   0,   0,   0,   0,   0,   0,   0,   0,   0,   0,   0,\n",
       "         0,   0,   1, 156, 229,  85,   0,   0,   0,   0,   0,   0,   1,\n",
       "       208, 183,   0,   0,   0,   0,   0,   0,   0,   0,   0,   0,   0,\n",
       "         0,   0,   0,   0,  77, 229, 149,   0,   0,   0,   0,   0,   0,\n",
       "         0,  30, 229, 137,   0,   0,   0,   0,   0,   0,   0,   0,   0,\n",
       "         0,   0,   0,   0,   0,   8, 202, 213,  19,   0,   0,   0,   0,\n",
       "         0,   0,   0,  90, 229,  81,   0,   0,   0,   0,   0,   0,   0,\n",
       "         0,   0,   0,   0,   0,   0,   0, 100, 229, 102,   0,   0,   0,\n",
       "         0,   0,   0,   0,   0, 154, 227,  21,   0,   0,   0,   0,   0,\n",
       "         0,   0,   0,   0,   0,   0,   0,   0,   3, 200, 208,   9,   0,\n",
       "         0,   0,   0,   0,   0,   0,  14, 219, 176,   0,   0,   0,   0,\n",
       "         0,   0,   0,   0,   0,   0,   0,   0,   0,   0,  62, 229, 120,\n",
       "         0,   0,   0,   0,   0,   0,   0,   0, 107, 229,  88,   0,   0,\n",
       "         0,   0,   0,   0,   0,   0,   0,   0,   0,   0,   0,   0, 134,\n",
       "       229,  39,   0,   0,   0,   0,   0,   0,   0,  21, 213, 201,   7,\n",
       "         0,   0,   0,   0,   0,   0,   0,   0,   0,   0,   0,   0,   0,\n",
       "         0, 189, 205,   1,   0,   0,   0,   0,   0,   0,   1, 156, 229,\n",
       "        75,   0,   0,   0,   0,   0,   0,   0,   0,   0,   0,   0,   0,\n",
       "         0,   0,   3, 221, 165,   0,   0,   0,   0,   0,   0,   0, 109,\n",
       "       229, 148,   1,   0,   0,   0,   0,   0,   0,   0,   0,   0,   0,\n",
       "         0,   0,   0,   0,  14, 229, 145,   0,   0,   0,   0,   0,   0,\n",
       "        96, 228, 184,  11,   0,   0,   0,   0,   0,   0,   0,   0,   0,\n",
       "         0,   0,   0,   0,   0,   0,  20, 229, 138,   0,   0,   0,   0,\n",
       "         1, 115, 228, 190,  21,   0,   0,   0,   0,   0,   0,   0,   0,\n",
       "         0,   0,   0,   0,   0,   0,   0,   0,  20, 229, 138,   0,   0,\n",
       "         0,  13, 153, 229, 178,  19,   0,   0,   0,   0,   0,   0,   0,\n",
       "         0,   0,   0,   0,   0,   0,   0,   0,   0,   0,  11, 227, 152,\n",
       "         0,   1,  58, 195, 229, 143,   8,   0,   0,   0,   0,   0,   0,\n",
       "         0,   0,   0,   0,   0,   0,   0,   0,   0,   0,   0,   0,   0,\n",
       "       184, 222, 171, 204, 229, 219,  91,   0,   0,   0,   0,   0,   0,\n",
       "         0,   0,   0,   0,   0,   0,   0,   0,   0,   0,   0,   0,   0,\n",
       "         0,   0,  37, 167, 198, 173, 115,  26,   0,   0,   0,   0,   0,\n",
       "         0,   0,   0,   0,   0,   0,   0,   0,   0,   0,   0,   0,   0,\n",
       "         0,   0,   0,   0,   0,   0,   0,   0,   0,   0,   0,   0,   0,\n",
       "         0,   0,   0,   0,   0,   0,   0,   0,   0,   0,   0,   0,   0,\n",
       "         0,   0,   0,   0,   0,   0,   0,   0,   0,   0,   0,   0,   0,\n",
       "         0,   0,   0,   0,   0,   0,   0,   0,   0,   0,   0,   0,   0,\n",
       "         0,   0,   0,   0,   0,   0,   0,   0,   0,   0,   0,   0,   0,\n",
       "         0,   0,   0,   0,   0,   0,   0,   0,   0,   0,   0,   0,   0,\n",
       "         0,   0,   0,   0], dtype=uint8)"
      ]
     },
     "execution_count": 475,
     "metadata": {},
     "output_type": "execute_result"
    }
   ],
   "source": [
    "img_flatten"
   ]
  },
  {
   "cell_type": "code",
   "execution_count": 476,
   "id": "4cf63af7",
   "metadata": {},
   "outputs": [
    {
     "data": {
      "image/png": "[encoded data removed]",
      "text/plain": [
       "<Figure size 640x480 with 1 Axes>"
      ]
     },
     "metadata": {},
     "output_type": "display_data"
    }
   ],
   "source": [
    "# Show the processed digit\n",
    "plt.imshow(img_resized, cmap='gray')\n",
    "plt.title(\"Processed Handwritten\")\n",
    "plt.show()"
   ]
  },
  {
   "cell_type": "code",
   "execution_count": 477,
   "id": "1877f2cc",
   "metadata": {},
   "outputs": [],
   "source": [
    "digit_reconizer_model = joblib.load(\"../models/svm_digit_recognizer_model.joblib\")\n",
    "digit_reconizer_scaler = joblib.load(\"../models/svm_digit_recognizer_scaler.joblib\")"
   ]
  },
  {
   "cell_type": "code",
   "execution_count": 478,
   "id": "95598a5a",
   "metadata": {},
   "outputs": [],
   "source": [
    "#reshape the image\n",
    "img_flatten = img_flatten.reshape(1, -1)"
   ]
  },
  {
   "cell_type": "code",
   "execution_count": 479,
   "id": "34da4c0a",
   "metadata": {},
   "outputs": [
    {
     "name": "stderr",
     "output_type": "stream",
     "text": [
      "/home/aryan/anaconda3/lib/python3.13/site-packages/sklearn/utils/validation.py:2739: UserWarning: X does not have valid feature names, but StandardScaler was fitted with feature names\n",
      "  warnings.warn(\n"
     ]
    }
   ],
   "source": [
    "#scale the input image\n",
    "input_img = digit_reconizer_scaler.transform(img_flatten)\n"
   ]
  },
  {
   "cell_type": "code",
   "execution_count": 480,
   "id": "888f9dcc",
   "metadata": {},
   "outputs": [
    {
     "data": {
      "text/plain": [
       "array([0])"
      ]
     },
     "execution_count": 480,
     "metadata": {},
     "output_type": "execute_result"
    }
   ],
   "source": [
    "digit_pred = digit_reconizer_model.predict(input_img)\n",
    "digit_pred"
   ]
  },
  {
   "cell_type": "code",
   "execution_count": 481,
   "id": "2254cbab",
   "metadata": {},
   "outputs": [
    {
     "name": "stdout",
     "output_type": "stream",
     "text": [
      "0\n"
     ]
    }
   ],
   "source": [
    "print(digit_pred[0])"
   ]
  }
 ],
 "metadata": {
  "kernelspec": {
   "display_name": "base",
   "language": "python",
   "name": "python3"
  },
  "language_info": {
   "codemirror_mode": {
    "name": "ipython",
    "version": 3
   },
   "file_extension": ".py",
   "mimetype": "text/x-python",
   "name": "python",
   "nbconvert_exporter": "python",
   "pygments_lexer": "ipython3",
   "version": "3.13.5"
  }
 },
 "nbformat": 4,
 "nbformat_minor": 5
}
